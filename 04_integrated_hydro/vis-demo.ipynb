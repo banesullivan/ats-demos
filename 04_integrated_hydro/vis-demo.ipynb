{
 "cells": [
  {
   "cell_type": "markdown",
   "metadata": {},
   "source": [
    "# ipyparaview visualization\n",
    "\n",
    "\n",
    "This notebook uses `ipyparaview` to visualize the outputs of the simulation.\n",
    "\n",
    "The simulation saved out a time series data set to the `integrated_hydro*.demo/visdump_data.VisIt.xmf` file series. We can read this data with ParaView's `Xdmf3ReaderS` file reader.\n",
    "\n",
    "\n",
    "Run the ipyparaview docker container (`ipp` from https://github.com/Kitware/ipyparaview/pull/1) with:\n",
    "\n",
    "```bash\n",
    "docker run -p 8888:8888 -v /path/to/ats-demos:/root/ipyparaview/notebooks/ats-demos ipp\n",
    "```"
   ]
  },
  {
   "cell_type": "code",
   "execution_count": null,
   "metadata": {},
   "outputs": [],
   "source": [
    "from paraview import simple as pvs\n",
    "from ipyparaview.widgets import PVDisplay\n",
    "from ipywidgets import interact\n",
    "import ipywidgets as widgets\n",
    "import os, glob"
   ]
  },
  {
   "cell_type": "code",
   "execution_count": null,
   "metadata": {},
   "outputs": [],
   "source": [
    "result_directory = \"integrated_hydro-v.demo\"\n",
    "data_file = \"visdump_data.VisIt.xmf\""
   ]
  },
  {
   "cell_type": "code",
   "execution_count": null,
   "metadata": {},
   "outputs": [],
   "source": [
    "data = pvs.Xdmf3ReaderS(FileName=os.path.join(result_directory, data_file))\n",
    "data.UpdatePipeline()"
   ]
  },
  {
   "cell_type": "code",
   "execution_count": null,
   "metadata": {},
   "outputs": [],
   "source": [
    "pvs.Show(data)\n",
    "disp = PVDisplay(pvs.GetActiveView())\n",
    "display(disp)"
   ]
  },
  {
   "cell_type": "code",
   "execution_count": null,
   "metadata": {},
   "outputs": [],
   "source": [
    "data_display = pvs.GetDisplayProperties(data, view=pvs.GetActiveView())\n",
    "data_display.SetScalarBarVisibility(pvs.GetActiveView(), True)\n",
    "\n",
    "# set scalar coloring\n",
    "pvs.ColorBy(data_display, ('CELLS', 'saturation_liquid.cell.0'))\n",
    "\n",
    "# get color transfer function/color map for 'base_porositycell0'\n",
    "tf = pvs.GetColorTransferFunction('saturation_liquid.cell.0')\n",
    "\n",
    "# Rescale transfer function\n",
    "tf.RescaleTransferFunction(0.509332835674, 1.0)"
   ]
  },
  {
   "cell_type": "code",
   "execution_count": null,
   "metadata": {},
   "outputs": [],
   "source": []
  },
  {
   "cell_type": "code",
   "execution_count": null,
   "metadata": {},
   "outputs": [],
   "source": [
    "timer = pvs.GetTimeKeeper()\n",
    "anno = pvs.AnnotateTime()\n",
    "pvs.Show(anno)\n",
    "\n",
    "def set_time(change):\n",
    "    step = change[\"new\"]\n",
    "    if step < 0:\n",
    "        step = 0\n",
    "    if step >= len(timer.TimestepValues):\n",
    "        step = len(timer.TimestepValues) - 1\n",
    "    timer.Time = timer.TimestepValues[step]\n",
    "    return\n",
    "\n",
    "play = widgets.Play(\n",
    "    value=0,\n",
    "    min=0,\n",
    "    max=len(timer.TimestepValues),\n",
    "    step=1,\n",
    "    description=\"Time Step\",\n",
    ")\n",
    "\n",
    "play.observe(set_time, \"value\")\n",
    "\n",
    "slider = widgets.IntSlider(min=0, max=len(timer.TimestepValues), continuous_update=True)\n",
    "widgets.jslink((play, 'value'), (slider, 'value'))"
   ]
  },
  {
   "cell_type": "code",
   "execution_count": null,
   "metadata": {},
   "outputs": [],
   "source": [
    "cmin = widgets.FloatText(\n",
    "    value=0.509332835674,\n",
    "    description='Min:',\n",
    "    disabled=False\n",
    ")\n",
    "cmax = widgets.FloatText(\n",
    "    value=1.0,\n",
    "    description='Max:',\n",
    "    disabled=False\n",
    ")\n",
    "\n",
    "def set_clim(change):\n",
    "    tf = pvs.GetColorTransferFunction(data_display.ColorArrayName[1])\n",
    "    tf.RescaleTransferFunction(cmin.value, cmax.value)\n",
    "    return\n",
    "\n",
    "cmin.observe(set_clim, \"value\")\n",
    "cmax.observe(set_clim, \"value\")\n",
    "\n",
    "\n",
    "def reset_colors(*args):\n",
    "    vmin, vmax = data.CellData[data_display.ColorArrayName[1]].GetRange()\n",
    "    cmin.value = vmin\n",
    "    cmax.value = vmax\n",
    "\n",
    "\n",
    "reset = widgets.Button(\n",
    "    description='Reset clim',\n",
    "    disabled=False,\n",
    "    button_style='', # 'success', 'info', 'warning', 'danger' or ''\n",
    "    tooltip='Click me',\n",
    ")\n",
    "reset.on_click(reset_colors)"
   ]
  },
  {
   "cell_type": "code",
   "execution_count": null,
   "metadata": {},
   "outputs": [],
   "source": [
    "scalars = widgets.Dropdown(\n",
    "    options=list(data.CellData.keys()), \n",
    "#                      range(len(data.CellData.keys())))),\n",
    "    value=data_display.ColorArrayName[1],\n",
    "    description='Scalars:',\n",
    ")\n",
    "\n",
    "def set_active_scalars(change):\n",
    "    name = change[\"new\"]\n",
    "    pvs.ColorBy(data_display, ('CELLS', name))\n",
    "    return reset_colors()\n",
    "    \n",
    "scalars.observe(set_active_scalars, 'value')\n",
    "    "
   ]
  },
  {
   "cell_type": "code",
   "execution_count": null,
   "metadata": {
    "scrolled": false
   },
   "outputs": [],
   "source": [
    "\n",
    "# Final Layout\n",
    "widgets.VBox([widgets.HBox([play, slider, scalars]), \n",
    "              widgets.HBox([cmin, cmax, reset]),\n",
    "              disp])"
   ]
  },
  {
   "cell_type": "code",
   "execution_count": null,
   "metadata": {},
   "outputs": [],
   "source": []
  }
 ],
 "metadata": {
  "kernelspec": {
   "display_name": "Python 3",
   "language": "python",
   "name": "python3"
  },
  "language_info": {
   "codemirror_mode": {
    "name": "ipython",
    "version": 3
   },
   "file_extension": ".py",
   "mimetype": "text/x-python",
   "name": "python",
   "nbconvert_exporter": "python",
   "pygments_lexer": "ipython3",
   "version": "3.7.6"
  }
 },
 "nbformat": 4,
 "nbformat_minor": 4
}
